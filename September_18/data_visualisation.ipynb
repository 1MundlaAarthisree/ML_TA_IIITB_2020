{
 "cells": [
  {
   "cell_type": "code",
   "execution_count": 2,
   "metadata": {},
   "outputs": [],
   "source": [
    "import pandas as pd\n",
    "import numpy as np\n",
    "import matplotlib.pyplot as plt\n",
    "import seaborn as sns\n",
    "import re"
   ]
  },
  {
   "cell_type": "markdown",
   "metadata": {},
   "source": [
    "# Topics we'll be covering in this tutorial\n",
    "\n",
    "1. boxplots, IQR, quartiles, outliers detection\n",
    "2. correlation plots\n",
    "3. histograms \n",
    "4. Normalisation techniques (multiply, min-max norm to convert all into one form, z transform etc)\n",
    "5. Playing around with plotting (plot size, legend, title, colors, plot stacking)\n",
    "6. Distribution plots, types of skew, skew check through mean, median and mode, skew removal (log, square etc)\n",
    "7. Visualising categorical data\n",
    "8. What kind of plot should I be using? \n",
    "9. And more \n",
    "\n",
    "## Some important shortcuts to speed up experimentation\n",
    "Watch and learn\n",
    "\n",
    "* D, D - delete\n",
    "* M - convert to markdown cell\n",
    "* Y - convert to code cell\n",
    "* A - add cell above\n",
    "* B - add cell below\n",
    "* Z - undo\n",
    "* Shift + enter - run"
   ]
  },
  {
   "cell_type": "code",
   "execution_count": 4,
   "metadata": {},
   "outputs": [
    {
     "data": {
      "text/plain": [
       "0              1 Kg\n",
       "1              1 Kg\n",
       "2              1 Kg\n",
       "3       Whole Bunch\n",
       "4       Whole Bunch\n",
       "           ...     \n",
       "1822        500 Gms\n",
       "1823       21.1 Gms\n",
       "1824        500 Gms\n",
       "1825         40 Gms\n",
       "1826          1 Ltr\n",
       "Name: Variant, Length: 1827, dtype: object"
      ]
     },
     "execution_count": 4,
     "metadata": {},
     "output_type": "execute_result"
    }
   ],
   "source": [
    "data = pd.read_csv(\"grocery_dataset.csv\")\n",
    "data.Variant"
   ]
  },
  {
   "cell_type": "code",
   "execution_count": 5,
   "metadata": {},
   "outputs": [],
   "source": [
    "data[\"quant\"] = data.Variant.apply(lambda x: re.match(\"([0-9]+ [A-z]+)\", x)[0] if re.match(\"([0-9]+ [A-z]+)\", x) is not None else None)"
   ]
  },
  {
   "cell_type": "code",
   "execution_count": 6,
   "metadata": {},
   "outputs": [
    {
     "data": {
      "text/html": [
       "<div>\n",
       "<style scoped>\n",
       "    .dataframe tbody tr th:only-of-type {\n",
       "        vertical-align: middle;\n",
       "    }\n",
       "\n",
       "    .dataframe tbody tr th {\n",
       "        vertical-align: top;\n",
       "    }\n",
       "\n",
       "    .dataframe thead th {\n",
       "        text-align: right;\n",
       "    }\n",
       "</style>\n",
       "<table border=\"1\" class=\"dataframe\">\n",
       "  <thead>\n",
       "    <tr style=\"text-align: right;\">\n",
       "      <th></th>\n",
       "      <th>title</th>\n",
       "      <th>sku_id</th>\n",
       "      <th>Variant_id</th>\n",
       "      <th>Variant</th>\n",
       "      <th>category</th>\n",
       "      <th>sub_category</th>\n",
       "      <th>quant</th>\n",
       "    </tr>\n",
       "  </thead>\n",
       "  <tbody>\n",
       "    <tr>\n",
       "      <th>0</th>\n",
       "      <td>Potato</td>\n",
       "      <td>5c0e70078d92d07fdfc24839</td>\n",
       "      <td>5c0e70078d92d07fdfc2483a</td>\n",
       "      <td>1 Kg</td>\n",
       "      <td>Fresh Vegetables</td>\n",
       "      <td>Potatoes, Onions, Tomatoes</td>\n",
       "      <td>1 Kg</td>\n",
       "    </tr>\n",
       "    <tr>\n",
       "      <th>1</th>\n",
       "      <td>Onion</td>\n",
       "      <td>5c1212046d62156290e94b08</td>\n",
       "      <td>5c2311b266af1577818acb9b</td>\n",
       "      <td>1 Kg</td>\n",
       "      <td>Fresh Vegetables</td>\n",
       "      <td>Potatoes, Onions, Tomatoes</td>\n",
       "      <td>1 Kg</td>\n",
       "    </tr>\n",
       "    <tr>\n",
       "      <th>2</th>\n",
       "      <td>Tomato</td>\n",
       "      <td>5c0e70078d92d07fdfc24863</td>\n",
       "      <td>5c6aa49f8fb99d101223a98d</td>\n",
       "      <td>1 Kg</td>\n",
       "      <td>Fresh Vegetables</td>\n",
       "      <td>Potatoes, Onions, Tomatoes</td>\n",
       "      <td>1 Kg</td>\n",
       "    </tr>\n",
       "    <tr>\n",
       "      <th>3</th>\n",
       "      <td>Coriander Leaves</td>\n",
       "      <td>5c0e70078d92d07fdfc247d9</td>\n",
       "      <td>5d6e093f4fce012c1d0fe96b</td>\n",
       "      <td>Whole Bunch</td>\n",
       "      <td>Fresh Herbs and Seasoning</td>\n",
       "      <td>Indian Herbs</td>\n",
       "      <td>None</td>\n",
       "    </tr>\n",
       "    <tr>\n",
       "      <th>4</th>\n",
       "      <td>Mint Leaves</td>\n",
       "      <td>5c0e70078d92d07fdfc2481d</td>\n",
       "      <td>5d6e093e4fce012c1d0fe113</td>\n",
       "      <td>Whole Bunch</td>\n",
       "      <td>Fresh Herbs and Seasoning</td>\n",
       "      <td>Indian Herbs</td>\n",
       "      <td>None</td>\n",
       "    </tr>\n",
       "    <tr>\n",
       "      <th>...</th>\n",
       "      <td>...</td>\n",
       "      <td>...</td>\n",
       "      <td>...</td>\n",
       "      <td>...</td>\n",
       "      <td>...</td>\n",
       "      <td>...</td>\n",
       "      <td>...</td>\n",
       "    </tr>\n",
       "    <tr>\n",
       "      <th>1822</th>\n",
       "      <td>Red Brinjal</td>\n",
       "      <td>5d2c2b719e1975027f936d07</td>\n",
       "      <td>5d2c2b719e1975027f936d09</td>\n",
       "      <td>500 Gms</td>\n",
       "      <td>Fresh Vegetables</td>\n",
       "      <td>Beans, Brinjals, Okra</td>\n",
       "      <td>500 Gms</td>\n",
       "    </tr>\n",
       "    <tr>\n",
       "      <th>1823</th>\n",
       "      <td>Nestle Guru Munch</td>\n",
       "      <td>5be2940148e1c43d79561c48</td>\n",
       "      <td>5bfbb76f7f2d4634fed2c1fc</td>\n",
       "      <td>21.1 Gms</td>\n",
       "      <td>Chocolates &amp; Ice-Cream</td>\n",
       "      <td>Bar Chocolates</td>\n",
       "      <td>None</td>\n",
       "    </tr>\n",
       "    <tr>\n",
       "      <th>1824</th>\n",
       "      <td>Tang Orange Instant Drink Mix</td>\n",
       "      <td>5bf85867269a0f1dd3c372e7</td>\n",
       "      <td>5bf85867269a0f1dd3c372e8</td>\n",
       "      <td>500 Gms</td>\n",
       "      <td>Beverages</td>\n",
       "      <td>Fruit Juice &amp; Drinks</td>\n",
       "      <td>500 Gms</td>\n",
       "    </tr>\n",
       "    <tr>\n",
       "      <th>1825</th>\n",
       "      <td>Haldiram Moong Dal</td>\n",
       "      <td>5bf85869269a0f1dd3c37ee5</td>\n",
       "      <td>5c3f6b877d95600ff27b9518</td>\n",
       "      <td>40 Gms</td>\n",
       "      <td>Snacks &amp; Frozen Food</td>\n",
       "      <td>Snacks</td>\n",
       "      <td>40 Gms</td>\n",
       "    </tr>\n",
       "    <tr>\n",
       "      <th>1826</th>\n",
       "      <td>Nestle Nestle A+ Nourish Toned Milk</td>\n",
       "      <td>5bda40247792aa60c412e8ea</td>\n",
       "      <td>5bda40247792aa60c412e8eb</td>\n",
       "      <td>1 Ltr</td>\n",
       "      <td>Breakfast &amp; Dairy</td>\n",
       "      <td>Milk</td>\n",
       "      <td>1 Ltr</td>\n",
       "    </tr>\n",
       "  </tbody>\n",
       "</table>\n",
       "<p>1827 rows × 7 columns</p>\n",
       "</div>"
      ],
      "text/plain": [
       "                                    title                    sku_id  \\\n",
       "0                                  Potato  5c0e70078d92d07fdfc24839   \n",
       "1                                   Onion  5c1212046d62156290e94b08   \n",
       "2                                  Tomato  5c0e70078d92d07fdfc24863   \n",
       "3                        Coriander Leaves  5c0e70078d92d07fdfc247d9   \n",
       "4                             Mint Leaves  5c0e70078d92d07fdfc2481d   \n",
       "...                                   ...                       ...   \n",
       "1822                          Red Brinjal  5d2c2b719e1975027f936d07   \n",
       "1823                    Nestle Guru Munch  5be2940148e1c43d79561c48   \n",
       "1824        Tang Orange Instant Drink Mix  5bf85867269a0f1dd3c372e7   \n",
       "1825                   Haldiram Moong Dal  5bf85869269a0f1dd3c37ee5   \n",
       "1826  Nestle Nestle A+ Nourish Toned Milk  5bda40247792aa60c412e8ea   \n",
       "\n",
       "                    Variant_id      Variant                   category  \\\n",
       "0     5c0e70078d92d07fdfc2483a         1 Kg           Fresh Vegetables   \n",
       "1     5c2311b266af1577818acb9b         1 Kg           Fresh Vegetables   \n",
       "2     5c6aa49f8fb99d101223a98d         1 Kg           Fresh Vegetables   \n",
       "3     5d6e093f4fce012c1d0fe96b  Whole Bunch  Fresh Herbs and Seasoning   \n",
       "4     5d6e093e4fce012c1d0fe113  Whole Bunch  Fresh Herbs and Seasoning   \n",
       "...                        ...          ...                        ...   \n",
       "1822  5d2c2b719e1975027f936d09      500 Gms           Fresh Vegetables   \n",
       "1823  5bfbb76f7f2d4634fed2c1fc     21.1 Gms     Chocolates & Ice-Cream   \n",
       "1824  5bf85867269a0f1dd3c372e8      500 Gms                  Beverages   \n",
       "1825  5c3f6b877d95600ff27b9518       40 Gms       Snacks & Frozen Food   \n",
       "1826  5bda40247792aa60c412e8eb        1 Ltr          Breakfast & Dairy   \n",
       "\n",
       "                    sub_category    quant  \n",
       "0     Potatoes, Onions, Tomatoes     1 Kg  \n",
       "1     Potatoes, Onions, Tomatoes     1 Kg  \n",
       "2     Potatoes, Onions, Tomatoes     1 Kg  \n",
       "3                   Indian Herbs     None  \n",
       "4                   Indian Herbs     None  \n",
       "...                          ...      ...  \n",
       "1822       Beans, Brinjals, Okra  500 Gms  \n",
       "1823              Bar Chocolates     None  \n",
       "1824        Fruit Juice & Drinks  500 Gms  \n",
       "1825                      Snacks   40 Gms  \n",
       "1826                        Milk    1 Ltr  \n",
       "\n",
       "[1827 rows x 7 columns]"
      ]
     },
     "execution_count": 6,
     "metadata": {},
     "output_type": "execute_result"
    }
   ],
   "source": [
    "data"
   ]
  },
  {
   "cell_type": "markdown",
   "metadata": {},
   "source": [
    "## Distribution skew\n",
    "Your data can be skewed, as nature is always biased towards the dominant component. If you take dietary habits, the gradient of vegetarianism will be highly skewed, with very few who are vegans. If you take distribution of heights, there will be very few who are above 6ft and so. \n",
    "\n",
    "### Types of skew\n",
    "Skewness can be towards the left or towards the right. It is not easy to observe skew by staring at your data, you need to visualise it. "
   ]
  },
  {
   "cell_type": "code",
   "execution_count": 8,
   "metadata": {},
   "outputs": [
    {
     "data": {
      "image/png": "[encoded data removed]",
      "text/plain": [
       "<Figure size 432x288 with 1 Axes>"
      ]
     },
     "metadata": {
      "needs_background": "light"
     },
     "output_type": "display_data"
    }
   ],
   "source": [
    "q = np.random.normal(3, 0.5, 1000)\n",
    "plt.hist(q, bins = 100)\n",
    "plt.show()"
   ]
  },
  {
   "cell_type": "markdown",
   "metadata": {},
   "source": [
    "I was too lazy to find datasets with skew, so I simulated it for you. Logarithmic and polynomial functions can be used to remove skew from data, and we'll see how that works by introducing skew using these functions!  "
   ]
  },
  {
   "cell_type": "code",
   "execution_count": 9,
   "metadata": {},
   "outputs": [
    {
     "name": "stderr",
     "output_type": "stream",
     "text": [
      "/Users/shreyasgupta/miniconda/lib/python3.7/site-packages/ipykernel_launcher.py:1: RuntimeWarning: invalid value encountered in log\n",
      "  \"\"\"Entry point for launching an IPython kernel.\n"
     ]
    },
    {
     "data": {
      "image/png": "[encoded data removed]",
      "text/plain": [
       "<Figure size 432x288 with 1 Axes>"
      ]
     },
     "metadata": {
      "needs_background": "light"
     },
     "output_type": "display_data"
    }
   ],
   "source": [
    "plt.hist(np.log(np.log(np.log(q))), bins = 100)\n",
    "plt.show()"
   ]
  },
  {
   "cell_type": "code",
   "execution_count": 10,
   "metadata": {},
   "outputs": [
    {
     "data": {
      "image/png": "[encoded data removed]",
      "text/plain": [
       "<Figure size 432x288 with 1 Axes>"
      ]
     },
     "metadata": {
      "needs_background": "light"
     },
     "output_type": "display_data"
    }
   ],
   "source": [
    "plt.hist(np.power(q, 8), bins = 100)\n",
    "plt.show()"
   ]
  },
  {
   "cell_type": "code",
   "execution_count": 11,
   "metadata": {},
   "outputs": [
    {
     "data": {
      "image/png": "[encoded data removed]",
      "text/plain": [
       "<Figure size 432x288 with 1 Axes>"
      ]
     },
     "metadata": {
      "needs_background": "light"
     },
     "output_type": "display_data"
    }
   ],
   "source": [
    "plt.plot(np.log(np.arange(1, 100, 1)))\n",
    "plt.show()"
   ]
  },
  {
   "cell_type": "code",
   "execution_count": 12,
   "metadata": {},
   "outputs": [
    {
     "data": {
      "image/png": "[encoded data removed]",
      "text/plain": [
       "<Figure size 432x288 with 1 Axes>"
      ]
     },
     "metadata": {
      "needs_background": "light"
     },
     "output_type": "display_data"
    }
   ],
   "source": [
    "plt.plot(np.power(np.arange(1, 100, 1), 2))\n",
    "plt.show()"
   ]
  },
  {
   "cell_type": "markdown",
   "metadata": {},
   "source": [
    "## Boxplots\n",
    "\n",
    "Boxplots are used to better understand the parameters of a distribution. It essentially contains two tails or whiskers, the inter quartile range (IQR), the 1st and the 3rd quartile boxes, the median line and outlier dots.  "
   ]
  },
  {
   "cell_type": "code",
   "execution_count": 13,
   "metadata": {},
   "outputs": [
    {
     "data": {
      "image/png": "[encoded data removed]",
      "text/plain": [
       "<Figure size 720x720 with 2 Axes>"
      ]
     },
     "metadata": {
      "needs_background": "light"
     },
     "output_type": "display_data"
    },
    {
     "data": {
      "text/plain": [
       "<Figure size 1440x720 with 0 Axes>"
      ]
     },
     "metadata": {},
     "output_type": "display_data"
    }
   ],
   "source": [
    "fig, ((row1), (row2)) = plt.subplots(2, 1, figsize=(10, 10))\n",
    "plt.figure(figsize=(20,10))\n",
    "sns.boxplot(np.power(q, 6), ax = row1)\n",
    "sns.distplot(np.power(q, 6), ax = row2)\n",
    "plt.show()"
   ]
  },
  {
   "cell_type": "markdown",
   "metadata": {},
   "source": [
    "## When to use what plots?\n",
    "\n",
    "This is a very interesting question, especially given that you guys didn't even ask this. We have an entire course around data visualisation so I'll try to summarise the whole course in this cell block.\n",
    "\n",
    "I feel this section is very important in the sense that in the industry a lot of data analysis goes in for problematising something and actually working on it, and you need to show visualisations not numbers when discussing with stakeholders and management. \n",
    "\n",
    "There are no hard and fast rules out there but there are a couple of things to consider \n",
    "* Think about what kind of data you're trying to visualise and what you're trying to convey from it. \n",
    "* Think about the colors. A simple rule to follow is to use complementary colors for different kinds of objects and supplementary colors for heatmaps, which you can pick by creating regular polygons over a color wheel. \n",
    "* Scale is important. \n",
    "* Too many categories? go for bar plot. Few categories? go for piechart. \n",
    "* Observe changes over time? line plot. \n",
    "* Need to visualise groupby objects? Use sankey diagrams. \n",
    "* Relationship between two variables? Use correlation plot."
   ]
  },
  {
   "cell_type": "code",
   "execution_count": null,
   "metadata": {},
   "outputs": [],
   "source": []
  }
 ],
 "metadata": {
  "kernelspec": {
   "display_name": "Python 3",
   "language": "python",
   "name": "python3"
  },
  "language_info": {
   "codemirror_mode": {
    "name": "ipython",
    "version": 3
   },
   "file_extension": ".py",
   "mimetype": "text/x-python",
   "name": "python",
   "nbconvert_exporter": "python",
   "pygments_lexer": "ipython3",
   "version": "3.7.7"
  }
 },
 "nbformat": 4,
 "nbformat_minor": 4
}
