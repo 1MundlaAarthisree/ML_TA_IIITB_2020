{
 "cells": [
  {
   "cell_type": "code",
   "execution_count": 2,
   "metadata": {},
   "outputs": [],
   "source": [
    "import pandas as pd\n",
    "import numpy as np\n",
    "import matplotlib.pyplot as plt\n",
    "import seaborn as sns\n",
    "import re"
   ]
  },
  {
   "cell_type": "markdown",
   "metadata": {},
   "source": [
    "# Topics we'll be covering in this tutorial\n",
    "\n",
    "1. boxplots, IQR, quartiles, outliers detection\n",
    "2. correlation plots\n",
    "3. histograms \n",
    "4. Normalisation techniques (multiply, min-max norm to convert all into one form, z transform etc)\n",
    "5. Playing around with plotting (plot size, legend, title, colors, plot stacking)\n",
    "6. Distribution plots, types of skew, skew check through mean, median and mode, skew removal (log, square etc)\n",
    "7. Visualising categorical data\n",
    "8. What kind of plot should I be using? \n",
    "9. And more \n",
    "\n",
    "## Some important shortcuts to speed up experimentation\n",
    "Watch and learn\n"
   ]
  }
 ],
 "metadata": {
  "kernelspec": {
   "display_name": "Python 3",
   "language": "python",
   "name": "python3"
  },
  "language_info": {
   "codemirror_mode": {
    "name": "ipython",
    "version": 3
   },
   "file_extension": ".py",
   "mimetype": "text/x-python",
   "name": "python",
   "nbconvert_exporter": "python",
   "pygments_lexer": "ipython3",
   "version": "3.7.7"
  }
 },
 "nbformat": 4,
 "nbformat_minor": 4
}
